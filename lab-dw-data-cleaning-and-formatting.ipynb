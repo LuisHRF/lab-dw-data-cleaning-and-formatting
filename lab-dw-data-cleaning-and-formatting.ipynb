{
  "cells": [
    {
      "cell_type": "markdown",
      "id": "25d7736c-ba17-4aff-b6bb-66eba20fbf4e",
      "metadata": {
        "id": "25d7736c-ba17-4aff-b6bb-66eba20fbf4e"
      },
      "source": [
        "# Lab | Data Cleaning and Formatting"
      ]
    },
    {
      "cell_type": "markdown",
      "id": "d1973e9e-8be6-4039-b70e-d73ee0d94c99",
      "metadata": {
        "id": "d1973e9e-8be6-4039-b70e-d73ee0d94c99"
      },
      "source": [
        "In this lab, we will be working with the customer data from an insurance company, which can be found in the CSV file located at the following link: https://raw.githubusercontent.com/data-bootcamp-v4/data/main/file1.csv\n"
      ]
    },
    {
      "cell_type": "markdown",
      "id": "31b8a9e7-7db9-4604-991b-ef6771603e57",
      "metadata": {
        "id": "31b8a9e7-7db9-4604-991b-ef6771603e57"
      },
      "source": [
        "# Challenge 1: Data Cleaning and Formatting"
      ]
    },
    {
      "cell_type": "markdown",
      "id": "81553f19-9f2c-484b-8940-520aff884022",
      "metadata": {
        "id": "81553f19-9f2c-484b-8940-520aff884022"
      },
      "source": [
        "## Exercise 1: Cleaning Column Names"
      ]
    },
    {
      "cell_type": "markdown",
      "id": "34a929f4-1be4-4fa8-adda-42ffd920be90",
      "metadata": {
        "id": "34a929f4-1be4-4fa8-adda-42ffd920be90"
      },
      "source": [
        "To ensure consistency and ease of use, standardize the column names of the dataframe. Start by taking a first look at the dataframe and identifying any column names that need to be modified. Use appropriate naming conventions and make sure that column names are descriptive and informative.\n",
        "\n",
        "*Hint*:\n",
        "- *Column names should be in lower case*\n",
        "- *White spaces in column names should be replaced by `_`*\n",
        "- *`st` could be replaced for `state`*"
      ]
    },
    {
      "cell_type": "code",
      "execution_count": 2,
      "id": "5810735c-8056-4442-bbf2-dda38d3e284a",
      "metadata": {
        "id": "5810735c-8056-4442-bbf2-dda38d3e284a"
      },
      "outputs": [
        {
          "data": {
            "text/plain": [
              "(4008, 11)"
            ]
          },
          "execution_count": 2,
          "metadata": {},
          "output_type": "execute_result"
        }
      ],
      "source": [
        "# Your code here\n",
        "\n",
        "import pandas as pd\n",
        "\n",
        "url = 'https://raw.githubusercontent.com/data-bootcamp-v4/data/main/file1.csv'\n",
        "\n",
        "customer_data_raw = pd.read_csv(url)\n",
        "\n",
        "customer_data_raw.head(5)\n",
        "\n",
        "customer_data_raw.shape"
      ]
    },
    {
      "cell_type": "code",
      "execution_count": 3,
      "id": "52b1eb49",
      "metadata": {},
      "outputs": [
        {
          "data": {
            "text/plain": [
              "Index(['Customer', 'ST', 'GENDER', 'Education', 'Customer Lifetime Value',\n",
              "       'Income', 'Monthly Premium Auto', 'Number of Open Complaints',\n",
              "       'Policy Type', 'Vehicle Class', 'Total Claim Amount'],\n",
              "      dtype='object')"
            ]
          },
          "execution_count": 3,
          "metadata": {},
          "output_type": "execute_result"
        }
      ],
      "source": [
        "customer_data_raw.columns"
      ]
    },
    {
      "cell_type": "code",
      "execution_count": 4,
      "id": "bde5f250",
      "metadata": {},
      "outputs": [
        {
          "data": {
            "text/plain": [
              "Index(['Customer', 'state', 'GENDER', 'Education', 'Customer Lifetime Value',\n",
              "       'Income', 'Monthly Premium Auto', 'Number of Open Complaints',\n",
              "       'Policy Type', 'Vehicle Class', 'Total Claim Amount'],\n",
              "      dtype='object')"
            ]
          },
          "execution_count": 4,
          "metadata": {},
          "output_type": "execute_result"
        }
      ],
      "source": [
        "cdata_columns_names = customer_data_raw.rename(columns={'ST' : 'state'})\n",
        "\n",
        "cdata_columns_names.columns"
      ]
    },
    {
      "cell_type": "code",
      "execution_count": 5,
      "id": "f72a4b8b",
      "metadata": {},
      "outputs": [
        {
          "data": {
            "text/plain": [
              "Index(['customer', 'state', 'gender', 'education', 'customer lifetime value',\n",
              "       'income', 'monthly premium auto', 'number of open complaints',\n",
              "       'policy type', 'vehicle class', 'total claim amount'],\n",
              "      dtype='object')"
            ]
          },
          "execution_count": 5,
          "metadata": {},
          "output_type": "execute_result"
        }
      ],
      "source": [
        "cdata_columns_names.columns = map(str.lower, cdata_columns_names.columns)\n",
        "cdata_columns_names.columns"
      ]
    },
    {
      "cell_type": "code",
      "execution_count": 6,
      "id": "133472e6",
      "metadata": {},
      "outputs": [
        {
          "data": {
            "text/plain": [
              "Index(['customer', 'state', 'gender', 'education', 'customer_lifetime_value',\n",
              "       'income', 'monthly_premium_auto', 'number_of_open_complaints',\n",
              "       'policy_type', 'vehicle_class', 'total_claim_amount'],\n",
              "      dtype='object')"
            ]
          },
          "execution_count": 6,
          "metadata": {},
          "output_type": "execute_result"
        }
      ],
      "source": [
        "cdata_columns_names.columns = cdata_columns_names.columns.map(lambda col: col.replace(' ', '_'))\n",
        "\n",
        "cdata_columns_names.columns"
      ]
    },
    {
      "cell_type": "markdown",
      "id": "9cb501ec-36ff-4589-b872-6252bb150316",
      "metadata": {
        "id": "9cb501ec-36ff-4589-b872-6252bb150316"
      },
      "source": [
        "## Exercise 2: Cleaning invalid Values"
      ]
    },
    {
      "cell_type": "markdown",
      "id": "771fdcf3-8e20-4b06-9c24-3a93ba2b0909",
      "metadata": {
        "id": "771fdcf3-8e20-4b06-9c24-3a93ba2b0909"
      },
      "source": [
        "The dataset contains columns with inconsistent and incorrect values that could affect the accuracy of our analysis. Therefore, we need to clean these columns to ensure that they only contain valid data.\n",
        "\n",
        "Note that this exercise will focus only on cleaning inconsistent values and will not involve handling null values (NaN or None).\n",
        "\n",
        "*Hint*:\n",
        "- *Gender column contains various inconsistent values such as \"F\", \"M\", \"Femal\", \"Male\", \"female\", which need to be standardized, for example, to \"M\" and \"F\".*\n",
        "- *State abbreviations be can replaced with its full name, for example \"AZ\": \"Arizona\", \"Cali\": \"California\", \"WA\": \"Washington\"*\n",
        "- *In education, \"Bachelors\" could be replaced by \"Bachelor\"*\n",
        "- *In Customer Lifetime Value, delete the `%` character*\n",
        "- *In vehicle class, \"Sports Car\", \"Luxury SUV\" and \"Luxury Car\" could be replaced by \"Luxury\"*"
      ]
    },
    {
      "cell_type": "code",
      "execution_count": 7,
      "id": "3f8ee5cb-50ab-48af-8a9f-9a389804033c",
      "metadata": {
        "id": "3f8ee5cb-50ab-48af-8a9f-9a389804033c"
      },
      "outputs": [
        {
          "data": {
            "text/html": [
              "<div>\n",
              "<style scoped>\n",
              "    .dataframe tbody tr th:only-of-type {\n",
              "        vertical-align: middle;\n",
              "    }\n",
              "\n",
              "    .dataframe tbody tr th {\n",
              "        vertical-align: top;\n",
              "    }\n",
              "\n",
              "    .dataframe thead th {\n",
              "        text-align: right;\n",
              "    }\n",
              "</style>\n",
              "<table border=\"1\" class=\"dataframe\">\n",
              "  <thead>\n",
              "    <tr style=\"text-align: right;\">\n",
              "      <th></th>\n",
              "      <th>customer</th>\n",
              "      <th>state</th>\n",
              "      <th>gender</th>\n",
              "      <th>education</th>\n",
              "      <th>customer_lifetime_value</th>\n",
              "      <th>income</th>\n",
              "      <th>monthly_premium_auto</th>\n",
              "      <th>number_of_open_complaints</th>\n",
              "      <th>policy_type</th>\n",
              "      <th>vehicle_class</th>\n",
              "      <th>total_claim_amount</th>\n",
              "    </tr>\n",
              "  </thead>\n",
              "  <tbody>\n",
              "    <tr>\n",
              "      <th>0</th>\n",
              "      <td>RB50392</td>\n",
              "      <td>Washington</td>\n",
              "      <td>NaN</td>\n",
              "      <td>Master</td>\n",
              "      <td>NaN</td>\n",
              "      <td>0.0</td>\n",
              "      <td>1000.0</td>\n",
              "      <td>1/0/00</td>\n",
              "      <td>Personal Auto</td>\n",
              "      <td>Four-Door Car</td>\n",
              "      <td>2.704934</td>\n",
              "    </tr>\n",
              "    <tr>\n",
              "      <th>1</th>\n",
              "      <td>QZ44356</td>\n",
              "      <td>Arizona</td>\n",
              "      <td>F</td>\n",
              "      <td>Bachelor</td>\n",
              "      <td>697953.59%</td>\n",
              "      <td>0.0</td>\n",
              "      <td>94.0</td>\n",
              "      <td>1/0/00</td>\n",
              "      <td>Personal Auto</td>\n",
              "      <td>Four-Door Car</td>\n",
              "      <td>1131.464935</td>\n",
              "    </tr>\n",
              "    <tr>\n",
              "      <th>2</th>\n",
              "      <td>AI49188</td>\n",
              "      <td>Nevada</td>\n",
              "      <td>F</td>\n",
              "      <td>Bachelor</td>\n",
              "      <td>1288743.17%</td>\n",
              "      <td>48767.0</td>\n",
              "      <td>108.0</td>\n",
              "      <td>1/0/00</td>\n",
              "      <td>Personal Auto</td>\n",
              "      <td>Two-Door Car</td>\n",
              "      <td>566.472247</td>\n",
              "    </tr>\n",
              "    <tr>\n",
              "      <th>3</th>\n",
              "      <td>WW63253</td>\n",
              "      <td>California</td>\n",
              "      <td>M</td>\n",
              "      <td>Bachelor</td>\n",
              "      <td>764586.18%</td>\n",
              "      <td>0.0</td>\n",
              "      <td>106.0</td>\n",
              "      <td>1/0/00</td>\n",
              "      <td>Corporate Auto</td>\n",
              "      <td>SUV</td>\n",
              "      <td>529.881344</td>\n",
              "    </tr>\n",
              "    <tr>\n",
              "      <th>4</th>\n",
              "      <td>GA49547</td>\n",
              "      <td>Washington</td>\n",
              "      <td>M</td>\n",
              "      <td>High School or Below</td>\n",
              "      <td>536307.65%</td>\n",
              "      <td>36357.0</td>\n",
              "      <td>68.0</td>\n",
              "      <td>1/0/00</td>\n",
              "      <td>Personal Auto</td>\n",
              "      <td>Four-Door Car</td>\n",
              "      <td>17.269323</td>\n",
              "    </tr>\n",
              "    <tr>\n",
              "      <th>5</th>\n",
              "      <td>OC83172</td>\n",
              "      <td>Oregon</td>\n",
              "      <td>F</td>\n",
              "      <td>Bachelor</td>\n",
              "      <td>825629.78%</td>\n",
              "      <td>62902.0</td>\n",
              "      <td>69.0</td>\n",
              "      <td>1/0/00</td>\n",
              "      <td>Personal Auto</td>\n",
              "      <td>Two-Door Car</td>\n",
              "      <td>159.383042</td>\n",
              "    </tr>\n",
              "    <tr>\n",
              "      <th>6</th>\n",
              "      <td>XZ87318</td>\n",
              "      <td>Oregon</td>\n",
              "      <td>F</td>\n",
              "      <td>College</td>\n",
              "      <td>538089.86%</td>\n",
              "      <td>55350.0</td>\n",
              "      <td>67.0</td>\n",
              "      <td>1/0/00</td>\n",
              "      <td>Corporate Auto</td>\n",
              "      <td>Four-Door Car</td>\n",
              "      <td>321.600000</td>\n",
              "    </tr>\n",
              "    <tr>\n",
              "      <th>7</th>\n",
              "      <td>CF85061</td>\n",
              "      <td>Arizona</td>\n",
              "      <td>M</td>\n",
              "      <td>Master</td>\n",
              "      <td>721610.03%</td>\n",
              "      <td>0.0</td>\n",
              "      <td>101.0</td>\n",
              "      <td>1/0/00</td>\n",
              "      <td>Corporate Auto</td>\n",
              "      <td>Four-Door Car</td>\n",
              "      <td>363.029680</td>\n",
              "    </tr>\n",
              "    <tr>\n",
              "      <th>8</th>\n",
              "      <td>DY87989</td>\n",
              "      <td>Oregon</td>\n",
              "      <td>M</td>\n",
              "      <td>Bachelor</td>\n",
              "      <td>2412750.40%</td>\n",
              "      <td>14072.0</td>\n",
              "      <td>71.0</td>\n",
              "      <td>1/0/00</td>\n",
              "      <td>Corporate Auto</td>\n",
              "      <td>Four-Door Car</td>\n",
              "      <td>511.200000</td>\n",
              "    </tr>\n",
              "    <tr>\n",
              "      <th>9</th>\n",
              "      <td>BQ94931</td>\n",
              "      <td>Oregon</td>\n",
              "      <td>F</td>\n",
              "      <td>College</td>\n",
              "      <td>738817.81%</td>\n",
              "      <td>28812.0</td>\n",
              "      <td>93.0</td>\n",
              "      <td>1/0/00</td>\n",
              "      <td>Special Auto</td>\n",
              "      <td>Four-Door Car</td>\n",
              "      <td>425.527834</td>\n",
              "    </tr>\n",
              "  </tbody>\n",
              "</table>\n",
              "</div>"
            ],
            "text/plain": [
              "  customer       state gender             education customer_lifetime_value  \\\n",
              "0  RB50392  Washington    NaN                Master                     NaN   \n",
              "1  QZ44356     Arizona      F              Bachelor              697953.59%   \n",
              "2  AI49188      Nevada      F              Bachelor             1288743.17%   \n",
              "3  WW63253  California      M              Bachelor              764586.18%   \n",
              "4  GA49547  Washington      M  High School or Below              536307.65%   \n",
              "5  OC83172      Oregon      F              Bachelor              825629.78%   \n",
              "6  XZ87318      Oregon      F               College              538089.86%   \n",
              "7  CF85061     Arizona      M                Master              721610.03%   \n",
              "8  DY87989      Oregon      M              Bachelor             2412750.40%   \n",
              "9  BQ94931      Oregon      F               College              738817.81%   \n",
              "\n",
              "    income  monthly_premium_auto number_of_open_complaints     policy_type  \\\n",
              "0      0.0                1000.0                    1/0/00   Personal Auto   \n",
              "1      0.0                  94.0                    1/0/00   Personal Auto   \n",
              "2  48767.0                 108.0                    1/0/00   Personal Auto   \n",
              "3      0.0                 106.0                    1/0/00  Corporate Auto   \n",
              "4  36357.0                  68.0                    1/0/00   Personal Auto   \n",
              "5  62902.0                  69.0                    1/0/00   Personal Auto   \n",
              "6  55350.0                  67.0                    1/0/00  Corporate Auto   \n",
              "7      0.0                 101.0                    1/0/00  Corporate Auto   \n",
              "8  14072.0                  71.0                    1/0/00  Corporate Auto   \n",
              "9  28812.0                  93.0                    1/0/00    Special Auto   \n",
              "\n",
              "   vehicle_class  total_claim_amount  \n",
              "0  Four-Door Car            2.704934  \n",
              "1  Four-Door Car         1131.464935  \n",
              "2   Two-Door Car          566.472247  \n",
              "3            SUV          529.881344  \n",
              "4  Four-Door Car           17.269323  \n",
              "5   Two-Door Car          159.383042  \n",
              "6  Four-Door Car          321.600000  \n",
              "7  Four-Door Car          363.029680  \n",
              "8  Four-Door Car          511.200000  \n",
              "9  Four-Door Car          425.527834  "
            ]
          },
          "execution_count": 7,
          "metadata": {},
          "output_type": "execute_result"
        }
      ],
      "source": [
        "# Your code here\n",
        "\n",
        "cdata_columns_names.head(10)"
      ]
    },
    {
      "cell_type": "code",
      "execution_count": 8,
      "id": "907ce0b2",
      "metadata": {},
      "outputs": [
        {
          "data": {
            "text/plain": [
              "gender\n",
              "F         457\n",
              "M         413\n",
              "Male       39\n",
              "female     28\n",
              "Femal      17\n",
              "Name: count, dtype: int64"
            ]
          },
          "execution_count": 8,
          "metadata": {},
          "output_type": "execute_result"
        }
      ],
      "source": [
        "# cdata_columns_names['gender'].unique() # Check unique values\n",
        "\n",
        "cdata_columns_names['gender'].value_counts()"
      ]
    },
    {
      "cell_type": "code",
      "execution_count": 9,
      "id": "b1cd4c6a",
      "metadata": {},
      "outputs": [
        {
          "data": {
            "text/plain": [
              "gender\n",
              "F    502\n",
              "M    452\n",
              "Name: count, dtype: int64"
            ]
          },
          "execution_count": 9,
          "metadata": {},
          "output_type": "execute_result"
        }
      ],
      "source": [
        "cdata_clean_values = cdata_columns_names.replace(['F', 'M', 'Femal', 'Male', 'female'], ['F', 'M', 'F', 'M', 'F'])\n",
        "\n",
        "cdata_clean_values['gender'].unique()\n",
        "\n",
        "cdata_clean_values['gender'].value_counts()"
      ]
    },
    {
      "cell_type": "code",
      "execution_count": 10,
      "id": "c7ffaa08",
      "metadata": {},
      "outputs": [
        {
          "data": {
            "text/plain": [
              "state\n",
              "California    331\n",
              "Oregon        320\n",
              "Arizona       211\n",
              "Washington    111\n",
              "Nevada         98\n",
              "Name: count, dtype: int64"
            ]
          },
          "execution_count": 10,
          "metadata": {},
          "output_type": "execute_result"
        }
      ],
      "source": [
        "cdata_clean_values['state'].value_counts()\n",
        "\n",
        "cdata_clean_values = cdata_clean_values.replace(['WA', 'AZ', 'Cali'], ['Washington', 'Arizona', 'California'])\n",
        "\n",
        "cdata_clean_values['state'].value_counts()"
      ]
    },
    {
      "cell_type": "code",
      "execution_count": 11,
      "id": "b5c461c9",
      "metadata": {},
      "outputs": [
        {
          "data": {
            "text/plain": [
              "education\n",
              "Bachelor                331\n",
              "College                 313\n",
              "High School or Below    296\n",
              "Master                   94\n",
              "Doctor                   37\n",
              "Name: count, dtype: int64"
            ]
          },
          "execution_count": 11,
          "metadata": {},
          "output_type": "execute_result"
        }
      ],
      "source": [
        "cdata_clean_values['education'].value_counts()\n",
        "\n",
        "cdata_clean_values = cdata_clean_values.replace(['Bachelors'], ['Bachelor'])\n",
        "\n",
        "cdata_clean_values['education'].value_counts()"
      ]
    },
    {
      "cell_type": "code",
      "execution_count": 12,
      "id": "8acbca19",
      "metadata": {},
      "outputs": [
        {
          "data": {
            "text/plain": [
              "0              NaN\n",
              "1        697953.59\n",
              "2       1288743.17\n",
              "3        764586.18\n",
              "4        536307.65\n",
              "           ...    \n",
              "4003           NaN\n",
              "4004           NaN\n",
              "4005           NaN\n",
              "4006           NaN\n",
              "4007           NaN\n",
              "Name: customer_lifetime_value, Length: 4008, dtype: object"
            ]
          },
          "execution_count": 12,
          "metadata": {},
          "output_type": "execute_result"
        }
      ],
      "source": [
        "cdata_clean_values['customer_lifetime_value']\n",
        "\n",
        "cdata_clean_values = cdata_clean_values.replace(['%'], [''], regex=True)\n",
        "\n",
        "cdata_clean_values['customer_lifetime_value']"
      ]
    },
    {
      "cell_type": "code",
      "execution_count": 13,
      "id": "09ac34e6",
      "metadata": {},
      "outputs": [
        {
          "data": {
            "text/plain": [
              "vehicle_class\n",
              "Four-Door Car    576\n",
              "Two-Door Car     205\n",
              "SUV              199\n",
              "Luxury            91\n",
              "Name: count, dtype: int64"
            ]
          },
          "execution_count": 13,
          "metadata": {},
          "output_type": "execute_result"
        }
      ],
      "source": [
        "\n",
        "cdata_clean_values['vehicle_class'].value_counts()\n",
        "\n",
        "cdata_clean_values = cdata_clean_values.replace(['Sports Car', 'Luxury Car', 'Luxury SUV'], ['Luxury', 'Luxury', 'Luxury'])\n",
        "\n",
        "cdata_clean_values['vehicle_class'].value_counts()"
      ]
    },
    {
      "cell_type": "markdown",
      "id": "85ff78ce-0174-4890-9db3-8048b7d7d2d0",
      "metadata": {
        "id": "85ff78ce-0174-4890-9db3-8048b7d7d2d0"
      },
      "source": [
        "## Exercise 3: Formatting data types"
      ]
    },
    {
      "cell_type": "markdown",
      "id": "b91c2cf8-79a2-4baf-9f65-ff2fb22270bd",
      "metadata": {
        "id": "b91c2cf8-79a2-4baf-9f65-ff2fb22270bd"
      },
      "source": [
        "The data types of many columns in the dataset appear to be incorrect. This could impact the accuracy of our analysis. To ensure accurate analysis, we need to correct the data types of these columns. Please update the data types of the columns as appropriate."
      ]
    },
    {
      "cell_type": "markdown",
      "id": "43e5d853-ff9e-43b2-9d92-aef2f78764f3",
      "metadata": {
        "id": "43e5d853-ff9e-43b2-9d92-aef2f78764f3"
      },
      "source": [
        "It is important to note that this exercise does not involve handling null values (NaN or None)."
      ]
    },
    {
      "cell_type": "markdown",
      "id": "329ca691-9196-4419-8969-3596746237a1",
      "metadata": {
        "id": "329ca691-9196-4419-8969-3596746237a1"
      },
      "source": [
        "*Hint*:\n",
        "- *Customer lifetime value should be numeric*\n",
        "- *Number of open complaints has an incorrect format. Look at the different values it takes with `unique()` and take the middle value. As an example, 1/5/00 should be 5. Number of open complaints is a string - remember you can use `split()` to deal with it and take the number you need. Finally, since it should be numeric, cast the column to be in its proper type.*"
      ]
    },
    {
      "cell_type": "code",
      "execution_count": 14,
      "id": "eb8f5991-73e9-405f-bf1c-6b7c589379a9",
      "metadata": {
        "id": "eb8f5991-73e9-405f-bf1c-6b7c589379a9"
      },
      "outputs": [
        {
          "data": {
            "text/plain": [
              "customer                      object\n",
              "state                         object\n",
              "gender                        object\n",
              "education                     object\n",
              "customer_lifetime_value      float64\n",
              "income                       float64\n",
              "monthly_premium_auto         float64\n",
              "number_of_open_complaints     object\n",
              "policy_type                   object\n",
              "vehicle_class                 object\n",
              "total_claim_amount           float64\n",
              "dtype: object"
            ]
          },
          "execution_count": 14,
          "metadata": {},
          "output_type": "execute_result"
        }
      ],
      "source": [
        "# Your code here\n",
        "\n",
        "cdata_clean_values.dtypes\n",
        "\n",
        "cdata_formatting_types = cdata_clean_values\n",
        "\n",
        "cdata_formatting_types['customer_lifetime_value'] = pd.to_numeric(cdata_formatting_types['customer_lifetime_value'])\n",
        "\n",
        "cdata_formatting_types.dtypes"
      ]
    },
    {
      "cell_type": "code",
      "execution_count": 15,
      "id": "8feafc94",
      "metadata": {},
      "outputs": [
        {
          "data": {
            "text/plain": [
              "array(['1/0/00', '1/2/00', '1/1/00', '1/3/00', '1/5/00', '1/4/00', nan],\n",
              "      dtype=object)"
            ]
          },
          "execution_count": 15,
          "metadata": {},
          "output_type": "execute_result"
        }
      ],
      "source": [
        "cdata_formatting_types['number_of_open_complaints'].unique()\n"
      ]
    },
    {
      "cell_type": "markdown",
      "id": "14c52e28-2d0c-4dd2-8bd5-3476e34fadc1",
      "metadata": {
        "id": "14c52e28-2d0c-4dd2-8bd5-3476e34fadc1"
      },
      "source": [
        "## Exercise 4: Dealing with Null values"
      ]
    },
    {
      "cell_type": "markdown",
      "id": "34b9a20f-7d32-4417-975e-1b4dfb0e16cd",
      "metadata": {
        "id": "34b9a20f-7d32-4417-975e-1b4dfb0e16cd"
      },
      "source": [
        "Identify any columns with null or missing values. Identify how many null values each column has. You can use the `isnull()` function in pandas to find columns with null values.\n",
        "\n",
        "Decide on a strategy for handling the null values. There are several options, including:\n",
        "\n",
        "- Drop the rows or columns with null values\n",
        "- Fill the null values with a specific value (such as the column mean or median for numerical variables, and mode for categorical variables)\n",
        "- Fill the null values with the previous or next value in the column\n",
        "- Fill the null values based on a more complex algorithm or model (note: we haven't covered this yet)\n",
        "\n",
        "Implement your chosen strategy to handle the null values. You can use the `fillna()` function in pandas to fill null values or `dropna()` function to drop null values.\n",
        "\n",
        "Verify that your strategy has successfully handled the null values. You can use the `isnull()` function again to check if there are still null values in the dataset.\n",
        "\n",
        "Remember to document your process and explain your reasoning for choosing a particular strategy for handling null values.\n",
        "\n",
        "After formatting data types, as a last step, convert all the numeric variables to integers."
      ]
    },
    {
      "cell_type": "code",
      "execution_count": 16,
      "id": "f184fc35-7831-4836-a0a5-e7f99e01b40e",
      "metadata": {
        "id": "f184fc35-7831-4836-a0a5-e7f99e01b40e"
      },
      "outputs": [
        {
          "data": {
            "text/plain": [
              "(4008, 11)"
            ]
          },
          "execution_count": 16,
          "metadata": {},
          "output_type": "execute_result"
        }
      ],
      "source": [
        "# Your code here\n",
        "\n",
        "cdata_formatting_types.shape\n"
      ]
    },
    {
      "cell_type": "code",
      "execution_count": 17,
      "id": "5dbf3290",
      "metadata": {},
      "outputs": [
        {
          "data": {
            "text/plain": [
              "customer                     2937\n",
              "state                        2937\n",
              "gender                       3054\n",
              "education                    2937\n",
              "customer_lifetime_value      2940\n",
              "income                       2937\n",
              "monthly_premium_auto         2937\n",
              "number_of_open_complaints    2937\n",
              "policy_type                  2937\n",
              "vehicle_class                2937\n",
              "total_claim_amount           2937\n",
              "dtype: int64"
            ]
          },
          "execution_count": 17,
          "metadata": {},
          "output_type": "execute_result"
        }
      ],
      "source": [
        "\n",
        "cdata_formatting_types.isnull().sum()"
      ]
    },
    {
      "cell_type": "code",
      "execution_count": 18,
      "id": "eb1c7669",
      "metadata": {},
      "outputs": [
        {
          "data": {
            "text/plain": [
              "customer                     1071\n",
              "state                        1071\n",
              "gender                        954\n",
              "education                    1071\n",
              "customer_lifetime_value      1068\n",
              "income                       1071\n",
              "monthly_premium_auto         1071\n",
              "number_of_open_complaints    1071\n",
              "policy_type                  1071\n",
              "vehicle_class                1071\n",
              "total_claim_amount           1071\n",
              "dtype: int64"
            ]
          },
          "execution_count": 18,
          "metadata": {},
          "output_type": "execute_result"
        }
      ],
      "source": [
        "cdata_formatting_types.notnull().sum()"
      ]
    },
    {
      "cell_type": "code",
      "execution_count": 19,
      "id": "600d033b",
      "metadata": {},
      "outputs": [
        {
          "data": {
            "text/plain": [
              "(1071, 11)"
            ]
          },
          "execution_count": 19,
          "metadata": {},
          "output_type": "execute_result"
        }
      ],
      "source": [
        "cd_cleaning_nulls = cdata_formatting_types.dropna(how='all') #Seeing that there are so many nulls compared to the correct values, I preferred to delete all the lines that have only null values, reducing the number of rows from 4008 to 1071\n",
        "\n",
        "cd_cleaning_nulls.shape"
      ]
    },
    {
      "cell_type": "code",
      "execution_count": 31,
      "id": "7e759226",
      "metadata": {},
      "outputs": [
        {
          "name": "stderr",
          "output_type": "stream",
          "text": [
            "C:\\Users\\VSPC\\AppData\\Local\\Temp\\ipykernel_28088\\2445736554.py:3: SettingWithCopyWarning: \n",
            "A value is trying to be set on a copy of a slice from a DataFrame.\n",
            "Try using .loc[row_indexer,col_indexer] = value instead\n",
            "\n",
            "See the caveats in the documentation: https://pandas.pydata.org/pandas-docs/stable/user_guide/indexing.html#returning-a-view-versus-a-copy\n",
            "  cd_cleaning__clean_gender['gender'] = cd_cleaning__clean_gender['gender'].fillna('Unknown')\n"
          ]
        },
        {
          "data": {
            "text/plain": [
              "0"
            ]
          },
          "execution_count": 31,
          "metadata": {},
          "output_type": "execute_result"
        }
      ],
      "source": [
        "cd_cleaning__clean_gender = cd_cleaning_nulls\n",
        "\n",
        "cd_cleaning__clean_gender['gender'] = cd_cleaning__clean_gender['gender'].fillna('Unknown')\n",
        "\n",
        "cd_cleaning__clean_gender['gender'].isnull().sum()"
      ]
    },
    {
      "cell_type": "code",
      "execution_count": 32,
      "id": "190c97b7",
      "metadata": {},
      "outputs": [
        {
          "data": {
            "text/plain": [
              "gender\n",
              "F          502\n",
              "M          452\n",
              "Unknown    117\n",
              "Name: count, dtype: int64"
            ]
          },
          "execution_count": 32,
          "metadata": {},
          "output_type": "execute_result"
        }
      ],
      "source": [
        "cd_cleaning__clean_gender['gender'].value_counts() # I replace the null values ​​in 'gender' with 'Unknown' so I can work with the rows"
      ]
    },
    {
      "cell_type": "code",
      "execution_count": 34,
      "id": "68a43b64",
      "metadata": {},
      "outputs": [
        {
          "data": {
            "text/plain": [
              "customer                     1071\n",
              "state                        1071\n",
              "gender                       1071\n",
              "education                    1071\n",
              "customer_lifetime_value      1068\n",
              "income                       1071\n",
              "monthly_premium_auto         1071\n",
              "number_of_open_complaints    1071\n",
              "policy_type                  1071\n",
              "vehicle_class                1071\n",
              "total_claim_amount           1071\n",
              "dtype: int64"
            ]
          },
          "execution_count": 34,
          "metadata": {},
          "output_type": "execute_result"
        }
      ],
      "source": [
        "cd_cleaning__clean_gender.notnull().sum()"
      ]
    },
    {
      "cell_type": "markdown",
      "id": "98416351-e999-4156-9834-9b00a311adfa",
      "metadata": {
        "id": "98416351-e999-4156-9834-9b00a311adfa"
      },
      "source": [
        "## Exercise 5: Dealing with duplicates"
      ]
    },
    {
      "cell_type": "markdown",
      "id": "ea0816a7-a18e-4d4c-b667-a8452a800bd1",
      "metadata": {
        "id": "ea0816a7-a18e-4d4c-b667-a8452a800bd1"
      },
      "source": [
        "Use the `.duplicated()` method to identify any duplicate rows in the dataframe.\n",
        "\n",
        "Decide on a strategy for handling the duplicates. Options include:\n",
        "- Dropping all duplicate rows\n",
        "- Keeping only the first occurrence of each duplicated row\n",
        "- Keeping only the last occurrence of each duplicated row\n",
        "- Dropping duplicates based on a subset of columns\n",
        "- Dropping duplicates based on a specific column\n",
        "\n",
        "Implement your chosen strategy using the `drop_duplicates()` function.\n",
        "\n",
        "Verify that your strategy has successfully handled the duplicates by checking for duplicates again using `.duplicated()`.\n",
        "\n",
        "Remember to document your process and explain your reasoning for choosing a particular strategy for handling duplicates.\n",
        "\n",
        "Save the cleaned dataset to a new CSV file.\n",
        "\n",
        "*Hint*: *after dropping duplicates, reset the index to ensure consistency*."
      ]
    },
    {
      "cell_type": "code",
      "execution_count": 39,
      "id": "1929362c-47ed-47cb-baca-358b78d401a0",
      "metadata": {
        "id": "1929362c-47ed-47cb-baca-358b78d401a0"
      },
      "outputs": [
        {
          "data": {
            "text/plain": [
              "0"
            ]
          },
          "execution_count": 39,
          "metadata": {},
          "output_type": "execute_result"
        }
      ],
      "source": [
        "# Your code here\n",
        "\n",
        "cd_dealing_duplicates = cd_cleaning__clean_gender\n",
        "\n",
        "cd_dealing_duplicates.duplicated().sum() # There are no duplicates in the dataset"
      ]
    },
    {
      "cell_type": "markdown",
      "id": "60840701-4783-40e2-b4d8-55303f9100c9",
      "metadata": {
        "id": "60840701-4783-40e2-b4d8-55303f9100c9"
      },
      "source": [
        "# Bonus: Challenge 2: creating functions on a separate `py` file"
      ]
    },
    {
      "cell_type": "markdown",
      "id": "9d1adb3a-17cf-4899-8041-da21a4337fb4",
      "metadata": {
        "id": "9d1adb3a-17cf-4899-8041-da21a4337fb4"
      },
      "source": [
        "Put all the data cleaning and formatting steps into functions, and create a main function that performs all the cleaning and formatting.\n",
        "\n",
        "Write these functions in separate .py file(s). By putting these steps into functions, we can make the code more modular and easier to maintain."
      ]
    },
    {
      "cell_type": "markdown",
      "id": "0e170dc2-b62c-417a-8248-e63ed18a70c4",
      "metadata": {
        "id": "0e170dc2-b62c-417a-8248-e63ed18a70c4"
      },
      "source": [
        "*Hint: autoreload module is a utility module in Python that allows you to automatically reload modules in the current session when changes are made to the source code. This can be useful in situations where you are actively developing code and want to see the effects of changes you make without having to constantly restart the Python interpreter or Jupyter Notebook kernel.*"
      ]
    },
    {
      "cell_type": "code",
      "execution_count": 21,
      "id": "a52c6dfc-cd11-4d01-bda4-f719fa33e9a4",
      "metadata": {
        "id": "a52c6dfc-cd11-4d01-bda4-f719fa33e9a4"
      },
      "outputs": [],
      "source": [
        "# Your code here"
      ]
    },
    {
      "cell_type": "markdown",
      "id": "80f846bb-3f5e-4ca2-96c0-900728daca5a",
      "metadata": {
        "id": "80f846bb-3f5e-4ca2-96c0-900728daca5a",
        "tags": []
      },
      "source": [
        "# Bonus: Challenge 3: Analyzing Clean and Formated Data"
      ]
    },
    {
      "cell_type": "markdown",
      "id": "9021630e-cc90-446c-b5bd-264d6c864207",
      "metadata": {
        "id": "9021630e-cc90-446c-b5bd-264d6c864207"
      },
      "source": [
        "You have been tasked with analyzing the data to identify potential areas for improving customer retention and profitability. Your goal is to identify customers with a high policy claim amount and a low customer lifetime value.\n",
        "\n",
        "In the Pandas Lab, we only looked at high policy claim amounts because we couldn't look into low customer lifetime values. If we had tried to work with that column, we wouldn't have been able to because customer lifetime value wasn't clean and in its proper format. So after cleaning and formatting the data, let's get some more interesting insights!\n",
        "\n",
        "Instructions:\n",
        "\n",
        "- Review the statistics again for total claim amount and customer lifetime value to gain an understanding of the data.\n",
        "- To identify potential areas for improving customer retention and profitability, we want to focus on customers with a high policy claim amount and a low customer lifetime value. Consider customers with a high policy claim amount to be those in the top 25% of the total claim amount, and clients with a low customer lifetime value to be those in the bottom 25% of the customer lifetime value. Create a pandas DataFrame object that contains information about customers with a policy claim amount greater than the 75th percentile and a customer lifetime value in the bottom 25th percentile.\n",
        "- Use DataFrame methods to calculate summary statistics about the high policy claim amount and low customer lifetime value data. To do so, select both columns of the dataframe simultaneously and pass it to the `.describe()` method. This will give you descriptive statistics, such as mean, median, standard deviation, minimum and maximum values for both columns at the same time, allowing you to compare and analyze their characteristics."
      ]
    },
    {
      "cell_type": "code",
      "execution_count": 22,
      "id": "211e82b5-461a-4d6f-8a23-4deccb84173c",
      "metadata": {
        "id": "211e82b5-461a-4d6f-8a23-4deccb84173c"
      },
      "outputs": [],
      "source": [
        "# Your code here"
      ]
    }
  ],
  "metadata": {
    "colab": {
      "provenance": []
    },
    "kernelspec": {
      "display_name": "Python 3 (ipykernel)",
      "language": "python",
      "name": "python3"
    },
    "language_info": {
      "codemirror_mode": {
        "name": "ipython",
        "version": 3
      },
      "file_extension": ".py",
      "mimetype": "text/x-python",
      "name": "python",
      "nbconvert_exporter": "python",
      "pygments_lexer": "ipython3",
      "version": "3.12.4"
    }
  },
  "nbformat": 4,
  "nbformat_minor": 5
}
